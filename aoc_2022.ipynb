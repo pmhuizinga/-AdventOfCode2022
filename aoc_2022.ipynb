{
 "cells": [
  {
   "cell_type": "code",
   "execution_count": 1,
   "metadata": {},
   "outputs": [],
   "source": [
    "%run data_prep.ipynb"
   ]
  },
  {
   "cell_type": "markdown",
   "metadata": {},
   "source": [
    "## <span style=\"color:#2986CC\">Day 1:</span> Calorie Counting"
   ]
  },
  {
   "cell_type": "code",
   "execution_count": 2,
   "metadata": {},
   "outputs": [
    {
     "name": "stdout",
     "output_type": "stream",
     "text": [
      "────────────────────────────────────────────────────────────────────────────────────────────────────\n",
      "Puzzle input: 2243 rows\n",
      "────────────────────────────────────────────────────────────────────────────────────────────────────\n",
      "3427\n",
      "3273\n",
      "5615\n",
      "5943\n",
      "3125\n",
      "4245\n",
      "4194\n",
      "3243\n",
      "4283\n",
      "1790\n"
     ]
    }
   ],
   "source": [
    "data = read_data(1, test=False, nr_of_lines=10)"
   ]
  },
  {
   "cell_type": "markdown",
   "metadata": {},
   "source": [
    "### Part 1"
   ]
  },
  {
   "cell_type": "code",
   "execution_count": 3,
   "metadata": {},
   "outputs": [
    {
     "name": "stdout",
     "output_type": "stream",
     "text": [
      "68775\n"
     ]
    }
   ],
   "source": [
    "total_list = []\n",
    "val = 0\n",
    "\n",
    "for item in data:\n",
    "    if item == '':\n",
    "        total_list.append(val)\n",
    "        val = 0\n",
    "    else:\n",
    "        val = val + int(item)\n",
    "\n",
    "print(max(total_list))"
   ]
  },
  {
   "cell_type": "markdown",
   "metadata": {},
   "source": [
    "### Part 2"
   ]
  },
  {
   "cell_type": "code",
   "execution_count": 4,
   "metadata": {},
   "outputs": [
    {
     "name": "stdout",
     "output_type": "stream",
     "text": [
      "202585\n"
     ]
    }
   ],
   "source": [
    "total_list.sort(reverse=True)\n",
    "print(sum(total_list[:3]))"
   ]
  },
  {
   "cell_type": "markdown",
   "metadata": {},
   "source": [
    "## <span style=\"color:#2986CC\">Day 2:</span> Rock Paper Scissors"
   ]
  },
  {
   "cell_type": "code",
   "execution_count": 5,
   "metadata": {},
   "outputs": [
    {
     "name": "stdout",
     "output_type": "stream",
     "text": [
      "────────────────────────────────────────────────────────────────────────────────────────────────────\n",
      "Puzzle input: 2500 rows\n",
      "────────────────────────────────────────────────────────────────────────────────────────────────────\n",
      "A X\n",
      "A Z\n",
      "A Z\n",
      "A X\n",
      "A X\n",
      "B X\n"
     ]
    }
   ],
   "source": [
    "\"\"\"\n",
    "paper > rock\n",
    "rock > scissors\n",
    "scissors > paper\n",
    "\"\"\"\n",
    "data = read_data(2, test=False)"
   ]
  },
  {
   "cell_type": "markdown",
   "metadata": {},
   "source": [
    "### Part 1"
   ]
  },
  {
   "cell_type": "code",
   "execution_count": 6,
   "metadata": {},
   "outputs": [
    {
     "name": "stdout",
     "output_type": "stream",
     "text": [
      "8890\n"
     ]
    }
   ],
   "source": [
    "data_original = [x.split(' ') for x in data]\n",
    "map = {'A': 'rock', 'B': 'paper', 'C': 'scissors', 'X': 'rock', 'Y': 'paper', 'Z': 'scissors'}\n",
    "ranking = {'rock': 1, 'paper': 2, 'scissors': 3}\n",
    "\n",
    "data = [(map[x[0]], map[x[1]]) for x in data_original]\n",
    "\n",
    "\n",
    "def calc_score(data):\n",
    "    score = 0\n",
    "    for pair in data:\n",
    "\n",
    "        # score for option choice\n",
    "        score += ranking[pair[1]]\n",
    "\n",
    "        # draw\n",
    "        if pair[0] == pair[1]:\n",
    "            score += 3\n",
    "\n",
    "        # win\n",
    "        if pair[1] == 'rock' and pair[0] == 'scissors':\n",
    "            score += 6\n",
    "        elif pair[1] == 'paper' and pair[0] == 'rock':\n",
    "            score += 6\n",
    "        elif pair[1] == 'scissors' and pair[0] == 'paper':\n",
    "            score += 6\n",
    "\n",
    "    return score\n",
    "\n",
    "print(calc_score(data))"
   ]
  },
  {
   "cell_type": "markdown",
   "metadata": {},
   "source": [
    "### Part 2:"
   ]
  },
  {
   "cell_type": "code",
   "execution_count": 7,
   "metadata": {},
   "outputs": [
    {
     "name": "stdout",
     "output_type": "stream",
     "text": [
      "10238\n"
     ]
    }
   ],
   "source": [
    "maps = {'X': 'lose', 'Y': 'draw'}\n",
    "maps2 = {'rock': {'win': 'paper', 'draw': 'rock', 'lose': 'scissors'},\n",
    "         'paper': {'win': 'scissors', 'draw': 'paper', 'lose': 'rock'},\n",
    "         'scissors': {'win': 'rock', 'draw': 'scissors', 'lose': 'paper'}}\n",
    "\n",
    "data = list([list((map[x[0]], x[1])) for x in data_original])\n",
    "\n",
    "for pair in data:\n",
    "    if pair[1] == 'X':\n",
    "        pair[1] = maps2[pair[0]]['lose']\n",
    "    elif pair[1] == 'Y':\n",
    "        pair[1] = (maps2[pair[0]]['draw'])\n",
    "    elif pair[1] == 'Z':\n",
    "        pair[1] = (maps2[pair[0]]['win'])\n",
    "    # pair[1] = maps2[pair[0]['lose']]\n",
    "\n",
    "print(calc_score(data))"
   ]
  },
  {
   "cell_type": "markdown",
   "metadata": {},
   "source": [
    "## <span style=\"color:#2986CC\">Day 3:</span> Rucksack Reorganization"
   ]
  },
  {
   "cell_type": "code",
   "execution_count": 8,
   "metadata": {},
   "outputs": [
    {
     "name": "stdout",
     "output_type": "stream",
     "text": [
      "────────────────────────────────────────────────────────────────────────────────────────────────────\n",
      "Puzzle input: 300 rows\n",
      "────────────────────────────────────────────────────────────────────────────────────────────────────\n",
      "hqBqJsqHhHvhHHqlBvlfpHQQwLVzVwtVzjzttjQVSjMjwL\n",
      "gRTRnCRsFNGbTzLjwcSTMmSz\n",
      "dGgsRWPGdWgZJqBBqhfpPq\n",
      "HNCNJHCWJRRLqNJWlfrrrwsmlwGmmf\n",
      "dddvLdLjdDvjvswlmGwlZQtjrt\n",
      "dvcpbLVcvNJJHNPHSp\n",
      "QDprSpLQRLQrQDmQcQFZjbbhZwdRsRFbbBss\n",
      "gWGGPgNvJlgJzDlNGHCGPNZZgFBbsjbFFBwZwfhdZbZB\n",
      "lHTlGMHlGCPNvClzGzJHvGcrMcVtLqMLcrrQVcVDrqrm\n",
      "SrBpJFfldlFNslFJBZwsmwgVGGsCCVmZZD\n"
     ]
    }
   ],
   "source": [
    "data = read_data(3, test=False, nr_of_lines=10)"
   ]
  },
  {
   "cell_type": "markdown",
   "metadata": {},
   "source": [
    "### Part 1:"
   ]
  },
  {
   "cell_type": "code",
   "execution_count": 9,
   "metadata": {},
   "outputs": [
    {
     "name": "stdout",
     "output_type": "stream",
     "text": [
      "7674\n"
     ]
    }
   ],
   "source": [
    "letter = list(string.ascii_lowercase)+list(string.ascii_uppercase)\n",
    "prio = np.arange(1, len(letter)+1)\n",
    "d = dict(zip(letter, prio))\n",
    "nr = 0\n",
    "\n",
    "for item in data:\n",
    "    lenght = int(len(item))\n",
    "    first_part = item[0:int(lenght/2)]\n",
    "    second_part = item[int(lenght/2):lenght]\n",
    "    matching_char = list(set(first_part).intersection(second_part))\n",
    "    nr += d[matching_char[0]]\n",
    "\n",
    "print(nr)"
   ]
  },
  {
   "cell_type": "markdown",
   "metadata": {},
   "source": [
    "### Part 2:"
   ]
  },
  {
   "cell_type": "code",
   "execution_count": 10,
   "metadata": {},
   "outputs": [
    {
     "name": "stdout",
     "output_type": "stream",
     "text": [
      "2805\n"
     ]
    }
   ],
   "source": [
    "chunks = [data[x:x+3] for x in range(0, len(data), 3)]\n",
    "\n",
    "nr = 0\n",
    "for chunk in chunks:\n",
    "    matching_char = list(set(chunk[0]).intersection(chunk[1]).intersection(chunk[2]))\n",
    "    nr += d[matching_char[0]]\n",
    "\n",
    "print(nr)"
   ]
  },
  {
   "cell_type": "markdown",
   "metadata": {},
   "source": [
    "## <span style=\"color:#2986CC\">Day 4:</span> Camp Cleanup"
   ]
  },
  {
   "cell_type": "code",
   "execution_count": 11,
   "metadata": {},
   "outputs": [
    {
     "name": "stdout",
     "output_type": "stream",
     "text": [
      "────────────────────────────────────────────────────────────────────────────────────────────────────\n",
      "Puzzle input: 6 rows\n",
      "────────────────────────────────────────────────────────────────────────────────────────────────────\n",
      "2-4,6-8\n",
      "2-3,4-5\n",
      "5-7,7-9\n",
      "2-8,3-7\n",
      "6-6,4-6\n",
      "2-6,4-8\n"
     ]
    }
   ],
   "source": [
    "data = read_data(4, test=True, nr_of_lines=10)"
   ]
  },
  {
   "cell_type": "markdown",
   "metadata": {},
   "source": [
    "### Part 1:"
   ]
  },
  {
   "cell_type": "code",
   "execution_count": 12,
   "metadata": {},
   "outputs": [
    {
     "name": "stdout",
     "output_type": "stream",
     "text": [
      "────────────────────────────────────────────────────────────────────────────────────────────────────\n",
      "Prepared data: 6 rows\n",
      "────────────────────────────────────────────────────────────────────────────────────────────────────\n",
      "[[2, 4], [6, 8]]\n",
      "[[2, 3], [4, 5]]\n",
      "[[5, 7], [7, 9]]\n",
      "[[2, 8], [3, 7]]\n",
      "[[6, 6], [4, 6]]\n",
      "[[2, 6], [4, 8]]\n",
      "2\n"
     ]
    }
   ],
   "source": [
    "data = [x.split(',') for x in data]\n",
    "d = [[[int(z) for z in x.split(\"-\")] for x in y] for y in data]\n",
    "print_data('Prepared data', d, 10)\n",
    "counter = 0\n",
    "\n",
    "for x in d:\n",
    "\n",
    "    max_val = max(x[0][0], x[1][0])\n",
    "    min_val = min(x[0][1], x[1][1])\n",
    "\n",
    "    a = [min(min_val, max_val), max(min_val, max_val)]\n",
    "    if x[0] == a or x[1] == a:\n",
    "        counter += 1\n",
    "\n",
    "print(counter)"
   ]
  },
  {
   "cell_type": "markdown",
   "metadata": {},
   "source": [
    "### Part 2:"
   ]
  },
  {
   "cell_type": "code",
   "execution_count": 13,
   "metadata": {},
   "outputs": [
    {
     "name": "stdout",
     "output_type": "stream",
     "text": [
      "4\n"
     ]
    }
   ],
   "source": [
    "counter = 0\n",
    "for x in d:\n",
    "    a = range(int(x[0][0]), int(x[0][1])+1)\n",
    "    b = range(int(x[1][0]), int(x[1][1])+1)\n",
    "    if set(a).intersection(b):\n",
    "        counter += 1\n",
    "\n",
    "print(counter)"
   ]
  },
  {
   "cell_type": "markdown",
   "metadata": {},
   "source": [
    "## <span style=\"color:#2986CC\">Day 5:</span> Supply Stacks"
   ]
  },
  {
   "cell_type": "code",
   "execution_count": 14,
   "metadata": {},
   "outputs": [
    {
     "name": "stdout",
     "output_type": "stream",
     "text": [
      "────────────────────────────────────────────────────────────────────────────────────────────────────\n",
      "Puzzle input: 513 rows\n",
      "────────────────────────────────────────────────────────────────────────────────────────────────────\n",
      "[T]             [P]     [J]        \n",
      "[F]     [S]     [T]     [R]     [B]\n",
      "[V]     [M] [H] [S]     [F]     [R]\n",
      "[Z]     [P] [Q] [B]     [S] [W] [P]\n",
      "[C]     [Q] [R] [D] [Z] [N] [H] [Q]\n",
      "[W] [B] [T] [F] [L] [T] [M] [F] [T]\n",
      "[S] [R] [Z] [V] [G] [R] [Q] [N] [Z]\n",
      "[Q] [Q] [B] [D] [J] [W] [H] [R] [J]\n",
      " 1   2   3   4   5   6   7   8   9 \n",
      "\n",
      "move 3 from 8 to 2\n",
      "move 3 from 1 to 5\n",
      "move 3 from 1 to 4\n",
      "move 2 from 7 to 4\n",
      "move 3 from 7 to 4\n",
      "move 8 from 5 to 7\n",
      "move 2 from 1 to 8\n",
      "move 7 from 3 to 2\n",
      "move 1 from 5 to 2\n",
      "move 1 from 6 to 7\n"
     ]
    }
   ],
   "source": [
    "data = read_data(5, test=False, nr_of_lines=20)"
   ]
  },
  {
   "cell_type": "markdown",
   "metadata": {},
   "source": [
    "### Part 1:"
   ]
  },
  {
   "cell_type": "code",
   "execution_count": 15,
   "metadata": {},
   "outputs": [],
   "source": [
    "# split stacks and procedure\n",
    "stack = []\n",
    "for idx, x in enumerate(data):\n",
    "    if x == '':\n",
    "        break\n",
    "    stack.append(list(x))\n",
    "\n",
    "nr_of_stacks = max(stack[-1])\n",
    "stack = ([[x.replace(\"[\", \" \").replace(\"]\", \" \") for x in y] for y in stack])"
   ]
  },
  {
   "cell_type": "code",
   "execution_count": 16,
   "metadata": {},
   "outputs": [
    {
     "name": "stdout",
     "output_type": "stream",
     "text": [
      "────────────────────────────────────────────────────────────────────────────────────────────────────\n",
      "Stacks: 8 rows\n",
      "────────────────────────────────────────────────────────────────────────────────────────────────────\n",
      "['T' nan nan nan 'P' nan 'J' nan nan]\n",
      "['F' nan 'S' nan 'T' nan 'R' nan 'B']\n",
      "['V' nan 'M' 'H' 'S' nan 'F' nan 'R']\n"
     ]
    }
   ],
   "source": [
    "# remove blanks\n",
    "df = pd.DataFrame(stack)\n",
    "nan_value = float(\"NaN\")\n",
    "df.replace(\" \", nan_value, inplace=True)\n",
    "df.dropna(how='all', axis=1, inplace=True)\n",
    "df = df[:-1] # remove bottom row\n",
    "df.columns = np.arange(1, df.shape[1]+1) # rename columns\n",
    "\n",
    "print_data('Stacks', np.array(df), 3, sep=\"─\"*100)\n",
    "\n",
    "procedure = []\n",
    "for idx2, x in enumerate(data):\n",
    "    if idx2 >= idx + 1:\n",
    "        procedure.append(x)"
   ]
  },
  {
   "cell_type": "code",
   "execution_count": 17,
   "metadata": {},
   "outputs": [
    {
     "name": "stdout",
     "output_type": "stream",
     "text": [
      "────────────────────────────────────────────────────────────────────────────────────────────────────\n",
      "Procedure: 503 rows\n",
      "────────────────────────────────────────────────────────────────────────────────────────────────────\n",
      "[3, 8, 2]\n",
      "[3, 1, 5]\n",
      "[3, 1, 4]\n"
     ]
    }
   ],
   "source": [
    "proc = []\n",
    "def proces(step):\n",
    "    input = step.split(\" \")\n",
    "    nr_of_items = int(input[1])\n",
    "    source = int(input[3])\n",
    "    target = int(input[5])\n",
    "    proc.append([nr_of_items, source, target])\n",
    "\n",
    "for step in procedure:\n",
    "    proces(step)\n",
    "    \n",
    "print_data('Procedure', proc, 3, sep=\"─\"*100)"
   ]
  },
  {
   "cell_type": "code",
   "execution_count": 21,
   "metadata": {
    "scrolled": true
   },
   "outputs": [
    {
     "name": "stdout",
     "output_type": "stream",
     "text": [
      "────────────────────────────────────────────────────────────────────────────────────────────────────\n",
      "Result: 9 rows\n",
      "────────────────────────────────────────────────────────────────────────────────────────────────────\n",
      "B\n",
      "Z\n",
      "L\n",
      "V\n",
      "H\n",
      "B\n",
      "W\n",
      "Q\n",
      "F\n"
     ]
    }
   ],
   "source": [
    "def colums_to_rows(arr):\n",
    "    \"\"\"transpose the array so that the first column of the array becomes the first row\"\"\"\n",
    "    tmp=[]\n",
    "    for c in np.arange(0,arr.shape[1],1):\n",
    "        row = [x for x in arr[:,c][::-1] if str(x) != 'nan']\n",
    "        tmp.append(row)    \n",
    "    return(tmp)\n",
    "\n",
    "arr2 = colums_to_rows(np.array(df))\n",
    "\n",
    "def run_procedure(arr, proc):\n",
    "    for p in proc:\n",
    "        moves = p[0]\n",
    "        from_pos = p[1]\n",
    "        to_pos = p[2]\n",
    "        for move in np.arange(1, moves+1, 1):\n",
    "            arr[to_pos-1].append(arr[from_pos-1][-1])\n",
    "            arr[from_pos-1].pop()\n",
    "    return arr\n",
    " \n",
    "def get_top_items(arr):\n",
    "    result = []\n",
    "    for r in arr2:\n",
    "        result.append(r[-1])\n",
    "    return result\n",
    "\n",
    "print_data('Result', get_top_items(p), 10, sep=\"─\"*100)"
   ]
  },
  {
   "cell_type": "markdown",
   "metadata": {},
   "source": [
    "### Part 2:"
   ]
  },
  {
   "cell_type": "code",
   "execution_count": 22,
   "metadata": {
    "scrolled": false
   },
   "outputs": [
    {
     "name": "stdout",
     "output_type": "stream",
     "text": [
      "────────────────────────────────────────────────────────────────────────────────────────────────────\n",
      "Result: 9 rows\n",
      "────────────────────────────────────────────────────────────────────────────────────────────────────\n",
      "T\n",
      "D\n",
      "G\n",
      "J\n",
      "Q\n",
      "T\n",
      "Z\n",
      "S\n",
      "L\n"
     ]
    }
   ],
   "source": [
    "arr2 = colums_to_rows(np.array(df))\n",
    "\n",
    "def run_procedure2(arr, proc):\n",
    "    for p in proc:\n",
    "        moves = p[0]\n",
    "        from_pos = p[1]\n",
    "        to_pos = p[2]\n",
    "        [arr[to_pos-1].append(x) for x in arr[from_pos-1][-(moves):]]\n",
    "        [arr[from_pos-1].pop() for x in range(moves)]\n",
    "    return arr\n",
    "    \n",
    "print_data('Result', get_top_items(run_procedure2(arr2, proc)), 10, sep=\"─\"*100)"
   ]
  },
  {
   "cell_type": "markdown",
   "metadata": {},
   "source": [
    "## <span style=\"color:#2986CC\">Day 6:</span> Tuning Trouble"
   ]
  },
  {
   "cell_type": "code",
   "execution_count": 74,
   "metadata": {},
   "outputs": [
    {
     "name": "stdout",
     "output_type": "stream",
     "text": [
      "────────────────────────────────────────────────────────────────────────────────────────────────────\n",
      "Puzzle input: 1 rows\n",
      "────────────────────────────────────────────────────────────────────────────────────────────────────\n",
      "srlsrsnnwhwwmddwfddgldlglppcnpptftzzchzhbhmmvwmvwvvjsjnjbbvbmvmnmqmfmjfjjmllzddrvrrnsncnznndwwqrqjjsfsjsjsvsvzvtvfvrvhhbwwltttbhhvphhtqqnffsppdqqrmmfrmfrrwvrvrsvrsrzssrqqrfqrfrttqntnpttvrrcncnfftjfjwwfwjwpwwltlwwwvnvcnvvdgvddqlddnllrggqvgvzzjddfgdfdgfffsbfsffjmffprrmgmtmqqgzzlwldlbbgjjnfjnnvlnnlbbnjnzngglmggwtgwttnvtnvndndmnmdmcddzbdbbspbpwbpplvpvnnmtmqqwnwgglhghdhbhqbhhqrqhqcqmmmrwwlvvfnvfnnpddbfbgfgqglgddrggbgbqqfwfjfdjfflzldlbbsbbtftccgqggzgdglglzljjzbzfbzffgftfvtfvvvjmjzjmjfjqqccpcjppzfpzzsvvzjvvfgfmgffzhhdphdpdwdwmdwwlqljjzffzvfzfwzfzcztctssdpssndssvbbtbstbtnngjjspplttpffjggbbqsqnqcncscpcmccbmbdbtbcbbgqgwgwqgwgwsszqznzvvntvvmlvlvqqvgvwgwlldbblclqcqggtqqlsqlsqlqcczzqgghmgmrgmrggljlbjbsbsmmnlmmdppnpfnnvhnnzggchgggbwwvtvpptgpplsljjshhnphhblbnbpbgppfllhsllbtlbtllrprqrvvfgvgpgcpcdddjjplpssjrjqjggncnzccqdqfqpffvddhlhdllgzzrtrztrztzptztwwbjbnjnsjsfsbfbdbccnhnmhnhrhwhfhbbtzbtztzrttrzrfrcrtctqqrlrsshphwphwpwwcmczzpqzqztqqvzzshhddrvdrrztrrqcqbcqbbhnnpfnpfnnmcnmnccnmmhccjjwzwcwbwcwnngtnngrngnsnzzcvvvtnvvtpvtpvtvvhffbsfsnsdsmmzbbrqbqpbpcpdppzmzbmmtdmttvgvrvlrvvhddjgdjdbbthtjhjdjhdjjmssdldjllwppvbvnbnlbbbszbblpbpfbpblbzzszvssbcbgcghgbbcpbbqrrdjdnnjcjddjcdjjcqqhggflftftfhttvlttgdtdrttwppwvvrzzbggrjjmssrjsjmssdtttdbdvddpllpgllthhvfvhvddrhhnznwznwzzpbblvvpmvpmpddjvdvcddvsshfhrrghgnhghmhhmhffrsfrflrfrjrddzgzsggchcfhhsbbsrszzgjggnrrgfffhthdthtnhtntllsjjjwqqsbsttbtzbttlfttczzbfbwfwvvhllltjjsqsdqqspqsszqzhhdrrhccgbcgggcbggnvgvmmwcmmpqmqccshsnnnwrwfrrwrllvhvlvmlvljjgrgvrvddfqfwqfqlfqqqppvmvrmrfrvrwrqrjqrrvmrvmrrvffmtffsfdfdrdwrwjrrcgcwwcdwdrdnrnzztqzzzgdzgdgldltdtvtnnhllrtltbtrbbttgssdhsssrmsscnssmtmqqtssmzzjqzqddfrdrtdrdpdzzppwggsrrfvfnvvmgvgmmdnnbwnntlnntncchcmcjmmvzzzngznnbgbnbnvbvzzfqqmtmrmcmqmvmbmbmcmscsjcsshswsjsvswshwwlnnsslmslmmzgmgsmssrwwmjwmwllvbvppplmmwgmgzgzdgzdgzztrtzzchcssbppdbbmvmqmmzhztzdtzdznnqhhmcmnnncbnngjnjmjnmmqqsnqsnslnlqlppvbvwwvtwtfwtfmzsbdjfvhzcflstpbtprpzmwcwwgzshfssnjdgflcsfglhbvvdctfrccfmwgfvjtvqfqpzzmqtlbvrjqwlwclfzhfzcmwsvprdhzcrghdscprrnqgdgmhhwbcfcfzrcgrwvbstpwbcvcnpmftwwthnsjznzslfdfqhtpsgmjsddmhlhtlzfsnhlcbgnqpqbzppnbcgtzvwdpmgftgsmrwjqwsdnjrrmwrmlcvlqgwldnvmsgnwccwzmdzwdhpmpqffgbnrrrvzqhtlnvqfhgwbbwsghwbrjzjcjmjmsspcmnfbbpmwffbdqffqfwsvtcrghbnldspdhjhjvtdhgmvrzqqlhvnwbdhfprwqdtzswfdzdwhzvfzsfqlzcflhbsvjhnjnthrdrgmjrrbftflpvrmrvvsgnjhrhjffvznmbjtshwgjmcqbfqjlptsrcgzvrhctwsdclrstmsbsbpqpjcvftmvmsmpwmmphlwmljhvllhrmfcncdprrwfmqrlllmsrvrwtbsqddbmblhvqqlcbbtjbslggrshflrddsphbvzhprcvbpmfldnmwtchddbdwhwpgbmjqptsbdzhrbqfwgfltchsggjlbqbhmzbjdncnvsqjvftpwrpdcjzsrvrlzwqfptwzssqpltjhdmtmmgvjzzqswwrsqrqfpdllgzsdlvhfdnzlrmlqdclwhqqbtwdqcrlfdjphjvcfzpwwgphmrldnwjpnmsjnqpwtwglcbthmcbnvpmjbdhmjglgccsmrmbvbqphdlbrrgnbljlhqvgqbctmthvmsfzflwvctwmdgmrlhnmwnsjtzndlwfttcvtslppjwsgbzhztlpzhmjlrbtzfnblwwlddzwqvzbjmffbflvmvnsgjlqwjqvrcrtwbhfzbzzmtwsndqmtnbjbsqjpnwhzqgwwltwgrqfbhjtpzrqvvhgjsbzqmfdsmzjdnplvblvqlrtzsbjgdptdhgvvrblbjppnnhhnvqtmjgwqzwtmjglrjlwsrfdjfmzlsszzzpbwvjbwpcwlplhcmhgpclztjcrmcntnqbnlrmcnhcnhnmjggtqbtvcfmcbdpqhdrvspbrgcwhgjhggwpvjbplhdsnnvgbzhmcrjqvqlwsdvrrnntmwdgdqdvzznjflctlfmfzsdfbpftsscnbtnqcsvtltvnsqpghzcwtjctvwqqnvnddlzbftwrdqzltpczrbmvsmlpfjzphtpnngzdfrjqrtbppbvztsddblspbltsnrtdftmwbblgdqvmscjqpwfvdzphwqgrbpdfcvtvmddgjjpswrqnwjfghtzwzbhtjnwjsrnwhjwcwnrtwrmbmqjhrbmbsslnvtsqnlbzlfdjvmnlhccpzmvpmrnttnshdjsswjlbtpwdwgmzqcthbczngwnfpzbmmrdffqsbrmsgzrtpsstfmdgbclwthflfbzvtptdfpzznvdwncqzvjwsmczwcnwgjpffcbhrtmtnbtjgcvtwdjtrftjwgvzmlfvgdjjjgsftzctplmjjmqfdzzwrtfmwqhwzglwbvsdvtgphsmngvppvlfdjdrzhhzsrvqgfwjbqdqlrwbgdmrglzrchvgwlhhwbvhfszntbrhshvqdznfvngdmhctjnlfhsmchqbqhdtmlntsnpvdzrvwjcjflfqgnprcpscfcmlgbwzmbnfdfnbwngrrbpnvbcdfgcpgtwmtbzptsdvjhwnzpsffglnqlczgsrdzshrfpqtqbmsrgzwwjvqhzjfzldcggvfhtcvzsgfspnlgtjfglwcnbprvssdfbtzqbblzjzmtftfcfprlwsvswjvtpzcpfphvmdnbczzjbjjrpwrncdszrtqjvznvgzcwdvpfvfcqlsdmhsswpnfsvtffnjhstcznwghlpmmqbnhqtddbjdrpvfhgdwjcnfgggmwnqhmsvgzsssbfcfrmbwpfqhrmtdvhbpwzggdvfjnlrgmvjjbqhjmbvszfzdcwrcjhfdczbhmcrwngmrgrldvbjjdgddhbbvqvwztfstfzqnqwvmmdzhzqtrmnqfrhmtdfhrgfqclpqdwthrbgsprccwcsvdbnclglgflhtqstvpwrmnsvflpplrgftlvjwttmdcqwjnbttjqqlwsntplmfrncqzplwgrjpzljtmnwsqfqnzgnrbtscbfzqwnqttnghcgl\n"
     ]
    }
   ],
   "source": [
    "data = read_data(6, test=False, nr_of_lines=3)"
   ]
  },
  {
   "cell_type": "code",
   "execution_count": 72,
   "metadata": {},
   "outputs": [],
   "source": [
    "data2 = [x for x in str(data[0])]\n",
    "char = 14"
   ]
  },
  {
   "cell_type": "code",
   "execution_count": 73,
   "metadata": {},
   "outputs": [
    {
     "name": "stdout",
     "output_type": "stream",
     "text": [
      "2202\n",
      "['q', 'f', 'w', 's', 'v', 't', 'c', 'r', 'g', 'h', 'b', 'n', 'l', 'd']\n"
     ]
    }
   ],
   "source": [
    "for x in range(char, len(data2), 1):\n",
    "    selection = data2[x-char:x]\n",
    "    if len(selection) == len(set(selection)):\n",
    "        print(x)\n",
    "        break"
   ]
  },
  {
   "cell_type": "markdown",
   "metadata": {},
   "source": [
    "## <span style=\"color:#2986CC\">Day 7:</span> No Space Left On Device"
   ]
  },
  {
   "cell_type": "code",
   "execution_count": 81,
   "metadata": {},
   "outputs": [
    {
     "name": "stdout",
     "output_type": "stream",
     "text": [
      "────────────────────────────────────────────────────────────────────────────────────────────────────\n",
      "Puzzle input: 23 rows\n",
      "────────────────────────────────────────────────────────────────────────────────────────────────────\n",
      "$ cd /\n",
      "$ ls\n",
      "dir a\n",
      "14848514 b.txt\n",
      "8504156 c.dat\n",
      "dir d\n",
      "$ cd a\n",
      "$ ls\n",
      "dir e\n",
      "29116 f\n",
      "2557 g\n",
      "62596 h.lst\n",
      "$ cd e\n",
      "$ ls\n",
      "584 i\n"
     ]
    }
   ],
   "source": [
    "data = read_data(7, test=True, nr_of_lines=15)"
   ]
  },
  {
   "cell_type": "markdown",
   "metadata": {},
   "source": [
    "### Part 1:"
   ]
  },
  {
   "cell_type": "code",
   "execution_count": 79,
   "metadata": {},
   "outputs": [
    {
     "data": {
      "text/plain": [
       "['$ cd /',\n",
       " '$ ls',\n",
       " 'dir a',\n",
       " '14848514 b.txt',\n",
       " '8504156 c.dat',\n",
       " 'dir d',\n",
       " '$ cd a',\n",
       " '$ ls',\n",
       " 'dir e',\n",
       " '29116 f',\n",
       " '2557 g',\n",
       " '62596 h.lst',\n",
       " '$ cd e',\n",
       " '$ ls',\n",
       " '584 i',\n",
       " '$ cd ..',\n",
       " '$ cd ..',\n",
       " '$ cd d',\n",
       " '$ ls',\n",
       " '4060174 j',\n",
       " '8033020 d.log',\n",
       " '5626152 d.ext',\n",
       " '7214296 k']"
      ]
     },
     "execution_count": 79,
     "metadata": {},
     "output_type": "execute_result"
    }
   ],
   "source": [
    "data"
   ]
  },
  {
   "cell_type": "code",
   "execution_count": null,
   "metadata": {},
   "outputs": [],
   "source": []
  }
 ],
 "metadata": {
  "kernelspec": {
   "display_name": "Python 3",
   "language": "python",
   "name": "python3"
  },
  "language_info": {
   "codemirror_mode": {
    "name": "ipython",
    "version": 3
   },
   "file_extension": ".py",
   "mimetype": "text/x-python",
   "name": "python",
   "nbconvert_exporter": "python",
   "pygments_lexer": "ipython3",
   "version": "3.7.1"
  }
 },
 "nbformat": 4,
 "nbformat_minor": 2
}
