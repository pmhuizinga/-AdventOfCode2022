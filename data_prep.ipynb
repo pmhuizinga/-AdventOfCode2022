{
 "cells": [
  {
   "cell_type": "code",
   "execution_count": 41,
   "metadata": {},
   "outputs": [],
   "source": [
    "from pathlib import Path\n",
    "import os\n",
    "import string\n",
    "import numpy as np\n",
    "import pandas as pd\n",
    "\n",
    "base_folder = 'data'\n",
    "base_file_name = 'aoc_data_{}.txt'\n",
    "base_testfile_name = 'aoc_data_{}_test.txt'\n",
    "\n",
    "\n",
    "def get_location(day):\n",
    "\n",
    "    p = Path(os.path.join(base_folder, base_file_name.format(day)))\n",
    "\n",
    "    if p.exists():\n",
    "        return p\n",
    "    else:\n",
    "        raise ValueError('file: {} not found.'.format(p))\n",
    "\n",
    "\n",
    "def read_data(day, test=True, nr_of_lines=6):\n",
    "    \n",
    "    if test: day = str(day) + '_test'\n",
    "        \n",
    "    p = get_location(day)\n",
    "\n",
    "    with open(p) as f:\n",
    "        content = f.readlines()\n",
    "\n",
    "    data = [c.strip('\\n').strip('\\t') for c in content]\n",
    "    \n",
    "    print_data('Puzzle input', data, nr_of_lines)\n",
    "    \n",
    "    return data\n",
    "\n",
    "\n",
    "def print_data(header, data, lines:int, sep=\"─\"*100):\n",
    "    \n",
    "    for thing in (sep, header + \": {} rows\".format(len(data)) , sep): print(thing)\n",
    "    \n",
    "    for row in data[:lines]:\n",
    "        print(row)\n",
    "    \n",
    "    return\n"
   ]
  }
 ],
 "metadata": {
  "kernelspec": {
   "display_name": "Python 3",
   "language": "python",
   "name": "python3"
  },
  "language_info": {
   "codemirror_mode": {
    "name": "ipython",
    "version": 3
   },
   "file_extension": ".py",
   "mimetype": "text/x-python",
   "name": "python",
   "nbconvert_exporter": "python",
   "pygments_lexer": "ipython3",
   "version": "3.7.1"
  }
 },
 "nbformat": 4,
 "nbformat_minor": 2
}
